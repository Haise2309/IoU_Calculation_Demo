{
 "cells": [
  {
   "cell_type": "code",
   "execution_count": 5,
   "metadata": {},
   "outputs": [
    {
     "name": "stdout",
     "output_type": "stream",
     "text": [
      "Time taken by numpy arrays to perform multi 0.006678342819213867 second\n"
     ]
    }
   ],
   "source": [
    "import time\n",
    "import numpy as np\n",
    "# Creat a box with 4 columns and 10000 rows\n",
    "boxes = []\n",
    "for i in range(10000):\n",
    "    boxes.append([i +1, i+ 1, i+ 1, i+1])\n",
    "\n",
    "# Array solution\n",
    "initialTime = time.time()\n",
    "box = np.array(boxes) # Truy xuất thành array 2 chiều \n",
    "\n",
    "# Coordinates of bounding boxes (xác định tọa độ của bounding box)\n",
    "x1 = box[:, 0]\n",
    "y1 = box[:, 1]\n",
    "x2 = box[:, 2]\n",
    "y2 = box[:, 3]\n",
    "# Compute the area of bounding box\n",
    "areas = (x2 - x1 + 1)* (y2 - y1 + 1)\n",
    "#####   =     W      *     H       \n",
    "\n",
    "# Compute the intersection areas\n",
    "xx1 = np.maximum(x1[0], x1[1:])\n",
    "yy1 = np.maximum(y1[0], y1[1:])\n",
    "xx2 = np.maximum(x2[0], x2[1:])\n",
    "yy2 = np.maximum(y2[0], y2[1:])\n",
    "\n",
    "w = np.maximum(0, xx2 -xx1 +1)\n",
    "h = np.maximum(0, yy2 -yy1 +1)\n",
    "\n",
    "inter = w*h\n",
    "\n",
    "# Compute IoU:\n",
    "\n",
    "iou = inter/ (areas[0] + areas[1:] - inter)\n",
    "\n",
    "### Giải thích lấy tọa độ x[0] y[0] làm gốc(lấy hết tất cả các cột với hàng ở index x = 0) \n",
    "### Còn [1:] là lấy hết tất cả các cột ở vị trí hàng từ index x = 1 trở đi\n",
    "\n",
    "print(f'Time taken by numpy arrays to perform multi {time.time() -initialTime} second')\n"
   ]
  }
 ],
 "metadata": {
  "kernelspec": {
   "display_name": "Python (myenv)",
   "language": "python",
   "name": "myenv"
  },
  "language_info": {
   "codemirror_mode": {
    "name": "ipython",
    "version": 3
   },
   "file_extension": ".py",
   "mimetype": "text/x-python",
   "name": "python",
   "nbconvert_exporter": "python",
   "pygments_lexer": "ipython3",
   "version": "3.8.19"
  }
 },
 "nbformat": 4,
 "nbformat_minor": 2
}
